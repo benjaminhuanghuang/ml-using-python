{
 "cells": [
  {
   "cell_type": "code",
   "execution_count": 5,
   "metadata": {},
   "outputs": [],
   "source": [
    "import sklearn\n",
    "import pandas as pd\n",
    "import numpy as np\n",
    "import seaborn as sns # statistical data visualization\n",
    "\n",
    "import matplotlib\n",
    "import matplotlib.pyplot as plt\n",
    "%matplotlib inline\n",
    "from IPython.display import Image\n",
    "\n",
    "from sklearn import preprocessing\n",
    "from sklearn.model_selection import train_test_split\n",
    "from sklearn.neighbors import KNeighborsClassifier\n",
    "from sklearn import metrics"
   ]
  },
  {
   "cell_type": "code",
   "execution_count": 6,
   "metadata": {},
   "outputs": [],
   "source": [
    "names = ['buying', 'maint', 'doors', 'persons', 'lug_boot', 'safety', 'eval']\n",
    "df = pd.read_table('https://archive.ics.uci.edu/ml/machine-learning-databases/car/car.data', sep=',', names = names)"
   ]
  },
  {
   "cell_type": "code",
   "execution_count": 8,
   "metadata": {},
   "outputs": [],
   "source": [
    "le = preprocessing.LabelEncoder()"
   ]
  },
  {
   "cell_type": "code",
   "execution_count": 12,
   "metadata": {},
   "outputs": [],
   "source": [
    "def encode_col(col_name):\n",
    "    encodes = le.fit(df[col_name])\n",
    "    new_col_name = 'e.'+ col_name\n",
    "    df[new_col_name] = df[col_name].map(lambda x:encodes.transform([x]))\n",
    "    df[new_col_name] = df[new_col_name].map(lambda x:x[0])"
   ]
  },
  {
   "cell_type": "code",
   "execution_count": 13,
   "metadata": {},
   "outputs": [],
   "source": [
    "encode_col('buying')\n",
    "encode_col('maint')\n",
    "encode_col('doors')\n",
    "encode_col('persons')\n",
    "encode_col('lug_boot')\n",
    "encode_col('safety')\n",
    "encode_col('eval')"
   ]
  },
  {
   "cell_type": "code",
   "execution_count": 16,
   "metadata": {},
   "outputs": [],
   "source": [
    "X = df[['e.buying', 'e.maint', 'e.doors','e.persons', 'e.lug_boot','e.safety']]\n",
    "y = df['e.eval']\n",
    "X_train, X_test, y_train, y_test= train_test_split(X, y, test_size=0.25, random_state =5)"
   ]
  },
  {
   "cell_type": "code",
   "execution_count": 17,
   "metadata": {},
   "outputs": [],
   "source": [
    "clf_knn = KNeighborsClassifier(n_neighbors =5)"
   ]
  },
  {
   "cell_type": "code",
   "execution_count": 18,
   "metadata": {},
   "outputs": [
    {
     "data": {
      "text/plain": [
       "KNeighborsClassifier(algorithm='auto', leaf_size=30, metric='minkowski',\n",
       "           metric_params=None, n_jobs=1, n_neighbors=5, p=2,\n",
       "           weights='uniform')"
      ]
     },
     "execution_count": 18,
     "metadata": {},
     "output_type": "execute_result"
    }
   ],
   "source": [
    "clf_knn.fit(X_train, y_train)"
   ]
  },
  {
   "cell_type": "code",
   "execution_count": 20,
   "metadata": {},
   "outputs": [],
   "source": [
    "y_pred = clf_knn.predict(X_test)"
   ]
  },
  {
   "cell_type": "code",
   "execution_count": 21,
   "metadata": {},
   "outputs": [
    {
     "name": "stdout",
     "output_type": "stream",
     "text": [
      "0.898148148148\n"
     ]
    }
   ],
   "source": [
    "print (metrics.accuracy_score(y_test, y_pred))"
   ]
  },
  {
   "cell_type": "code",
   "execution_count": null,
   "metadata": {},
   "outputs": [],
   "source": [
    "def knn_probs(index_num):\n",
    "    X_param = X_test.loc[index_num]\n",
    "    X_param = X_param.to_frame()\n",
    "    X_param = X_param.transpose()\n",
    "    temp_pred = clf_knn.predict_proba(X_param)\n",
    "    temp_pred_1 = temp_pred[0]\n",
    "    y_actual = y_test[index_num]\n",
    "    y_range = ['Unacceptable', 'Acceptable', 'Good', 'Very_Good']\n",
    "    print ('For index number: ', index_num)\n",
    "    print ('Features entered: ', X_param)\n",
    "    print ('Actual score: ', y_actual, '(', y_range[y_actual],')')\n",
    "    print ('Predicted probailities: ')\n",
    "    for i in range(4):\n",
    "        print (y_range[i], \" : \", temp_pred_1[i])\n",
    "    "
   ]
  },
  {
   "cell_type": "code",
   "execution_count": 22,
   "metadata": {},
   "outputs": [
    {
     "ename": "NameError",
     "evalue": "name 'knn_probs' is not defined",
     "output_type": "error",
     "traceback": [
      "\u001b[0;31m---------------------------------------------------------------------------\u001b[0m",
      "\u001b[0;31mNameError\u001b[0m                                 Traceback (most recent call last)",
      "\u001b[0;32m<ipython-input-22-4fb21fb15726>\u001b[0m in \u001b[0;36m<module>\u001b[0;34m()\u001b[0m\n\u001b[0;32m----> 1\u001b[0;31m \u001b[0mknn_probs\u001b[0m\u001b[0;34m(\u001b[0m\u001b[0;36m805\u001b[0m\u001b[0;34m)\u001b[0m\u001b[0;34m\u001b[0m\u001b[0m\n\u001b[0m",
      "\u001b[0;31mNameError\u001b[0m: name 'knn_probs' is not defined"
     ]
    }
   ],
   "source": [
    "knn_probs(805)"
   ]
  }
 ],
 "metadata": {
  "kernelspec": {
   "display_name": "Python 3",
   "language": "python",
   "name": "python3"
  },
  "language_info": {
   "codemirror_mode": {
    "name": "ipython",
    "version": 3
   },
   "file_extension": ".py",
   "mimetype": "text/x-python",
   "name": "python",
   "nbconvert_exporter": "python",
   "pygments_lexer": "ipython3",
   "version": "3.6.4"
  }
 },
 "nbformat": 4,
 "nbformat_minor": 2
}
